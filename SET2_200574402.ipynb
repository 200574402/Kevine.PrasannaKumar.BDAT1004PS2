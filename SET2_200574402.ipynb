{
 "cells": [
  {
   "cell_type": "code",
   "execution_count": null,
   "id": "211d988e-c466-4b78-924a-0221fa9fcba9",
   "metadata": {},
   "outputs": [],
   "source": [
    "Question 1\n",
    "\n",
    "Consider the following Python module: a = 0 def b(): global a a = c(a) def c(a): return a + 2 After importing the module into the interpreter, you execute: b() b() b() a?\n",
    "\n",
    "What value is displayed when the last expression (a) is evaluated? Explain youranswer by indicating what happens in every executed statement"
   ]
  },
  {
   "cell_type": "code",
   "execution_count": 1,
   "id": "7d949719-5ca3-4f0e-beb2-001e98742fc2",
   "metadata": {},
   "outputs": [
    {
     "name": "stdout",
     "output_type": "stream",
     "text": [
      "2\n",
      "4\n",
      "6\n",
      "6\n"
     ]
    }
   ],
   "source": [
    "a = 0\n",
    "def b():\n",
    "    global a\n",
    "    a = c(a)\n",
    "    print(a)\n",
    "\n",
    "def c(a):\n",
    "    return a + 2\n",
    "\n",
    "b()\n",
    "b()\n",
    "b()\n",
    "print(a)"
   ]
  },
  {
   "cell_type": "code",
   "execution_count": null,
   "id": "17248693-33a0-48e1-81c8-f130b969335f",
   "metadata": {},
   "outputs": [],
   "source": [
    "The value of the last expression is 6.\n",
    "\n",
    "When the function b runs, it sets the initial value of the global variable 'a' to 0. After that, it runs the function c, which increases the value by 2 and returns the value of 2, in this case, to a. There are two additional repetitions of this technique."
   ]
  },
  {
   "cell_type": "code",
   "execution_count": null,
   "id": "d3cf0b06-88cf-4934-9d5b-36874b18d01c",
   "metadata": {},
   "outputs": [],
   "source": [
    "Question 2\n",
    "\n",
    "Function fileLength(), given to you, takes the name of a file as input and returnsthe length of the file:\n",
    "\n",
    "fileLength('midterm.py') 284 fileLength('idterm.py') Traceback (most recent call last): File \"<pyshell#34>\", line 1, in fileLength('idterm.py') File \"/Users/me/midterm.py\", line 3, in fileLength infile = open(filename) FileNotFoundError: [Errno 2] No such file or directory: 'idterm.py'\n",
    "\n",
    "As shown above, if the file cannot be found by the interpreter or if it cannot be readas a text file, an exception will be raised. Modify function fileLength() so that afriendly message is printed instead: fileLength('midterm.py') 358 fileLength('idterm.py') File idterm.py not found."
   ]
  },
  {
   "cell_type": "code",
   "execution_count": 5,
   "id": "7bef2ae4-d450-4b76-a3c0-791ee6b973e6",
   "metadata": {},
   "outputs": [
    {
     "name": "stdout",
     "output_type": "stream",
     "text": [
      "102\n",
      "The file currencies.py is either missing from path or the name is incorrect\n"
     ]
    }
   ],
   "source": [
    "def fileLength(get_file_name):\n",
    "\n",
    "    try:\n",
    "        get_file = open(get_file_name,\"r\")\n",
    "    except FileNotFoundError as e:\n",
    "        print(\"The file {0} is either missing from path or the name is incorrect\".format(get_file_name))\n",
    "        return\n",
    "    read_file = get_file.read()\n",
    "    print(len(read_file))\n",
    "\n",
    "fileLength(\"bloodtype1.txt\")\n",
    "fileLength(\"currencies.py\")"
   ]
  },
  {
   "cell_type": "code",
   "execution_count": null,
   "id": "2a34e51f-fb60-484f-9cf3-6926d96b6e4a",
   "metadata": {},
   "outputs": [],
   "source": [
    "Question 3\n",
    "\n",
    "Write a class named Marsupial that can be used as shown below: m = Marsupial() m.put_in_pouch('doll') m.put_in_pouch('firetruck') m.put_in_pouch('kitten') m.pouch_contents() ['doll', 'firetruck', 'kitten']\n",
    "\n",
    "Now write a class named Kangaroo as a subclass of Marsupial that inherits all the attributes of Marsupial and also: a. extends the Marsupial init constructor to take, as input, the coordinates x and y of the Kangaroo object, b. supports method jump that takes number values dx and dy as input and moves the kangaroo by dx units along the x-axis and by dy units along the y-axis, and c. overloads the str operator so it behaves as shown below.\n",
    "\n",
    "k = Kangaroo(0,0) print(k) I am a Kangaroo located at coordinates (0,0) k.put_in_pouch('doll') k.put_in_pouch('firetruck') k.put_in_pouch('kitten') k.pouch_contents() ['doll', 'firetruck', 'kitten'] k.jump(1,0) k.jump(1,0) k.jump(1,0) print(k) I am a Kangaroo located at coordinates (3,0)"
   ]
  },
  {
   "cell_type": "code",
   "execution_count": 6,
   "id": "f5cd0d4a-6460-4344-99e4-b547f71542e0",
   "metadata": {},
   "outputs": [
    {
     "name": "stdout",
     "output_type": "stream",
     "text": [
      "['doll', 'firetruck', 'kitten']\n",
      "I am at Kangaroo located at coordinates (0,0)\n",
      "['doll', 'firetruck', 'kitten']\n",
      "I am at Kangaroo located at coordinates (3,0)\n"
     ]
    }
   ],
   "source": [
    "class Marsupial:\n",
    "\n",
    "    def __init__(self):\n",
    "        self.collect_list = []\n",
    "    def put_in_pouch(self,get_value):\n",
    "        self.collect_list.append(get_value)\n",
    "    def pouch_contents(self):\n",
    "        print(self.collect_list)\n",
    "\n",
    "class Kangaroo(Marsupial):\n",
    "    \n",
    "    def __init__(self,get_x_value,get_y_value):\n",
    "        super().__init__()\n",
    "        self.x_value = get_x_value\n",
    "        self.y_value = get_y_value\n",
    "\n",
    "    def jump(self,get_x_value,get_y_value):\n",
    "        self.x_value += get_x_value\n",
    "        self.y_value += get_y_value\n",
    "    \n",
    "    def __str__(self):\n",
    "        return \"I am at Kangaroo located at coordinates ({0},{1})\".format(self.x_value,self.y_value)\n",
    "\n",
    "m = Marsupial()\n",
    "m.put_in_pouch('doll')\n",
    "m.put_in_pouch('firetruck')\n",
    "m.put_in_pouch('kitten')\n",
    "m.pouch_contents()\n",
    "k = Kangaroo(0,0)\n",
    "print(k)\n",
    "k.put_in_pouch('doll')\n",
    "k.put_in_pouch('firetruck')\n",
    "k.put_in_pouch('kitten')\n",
    "k.pouch_contents()\n",
    "k.jump(1,0)\n",
    "k.jump(1,0)\n",
    "k.jump(1,0)\n",
    "print(k)"
   ]
  },
  {
   "cell_type": "code",
   "execution_count": null,
   "id": "00f5e211-a9a9-45a2-a038-123160c7b3e6",
   "metadata": {},
   "outputs": [],
   "source": [
    "Question 4\n",
    "\n",
    "Write function collatz() that takes a positive integer x as input and prints theCollatz sequence starting at x. A Collatz sequence is obtained by repeatedly applyingthis rule to the previous number x in the sequence:\n",
    "\n",
    "x = x/2 if x is even 3x+1 if x is odd\n",
    "\n",
    "Your function should stop when the sequence gets to number 1.Your implementation must be recursive, without any loops.\n",
    "\n",
    "collatz(1) 1 collatz(10) 10 5 16 8 4 2 1"
   ]
  },
  {
   "cell_type": "code",
   "execution_count": 7,
   "id": "5720c59c-3dfa-4cd2-a5f1-3c0b69dba4c2",
   "metadata": {},
   "outputs": [
    {
     "name": "stdout",
     "output_type": "stream",
     "text": [
      "1\n",
      "10\n",
      "5\n",
      "16\n",
      "8\n",
      "4\n",
      "2\n",
      "1\n"
     ]
    }
   ],
   "source": [
    "def collatz(get_value):\n",
    "    x = get_value\n",
    "    while x != 1:\n",
    "        print(x)\n",
    "        if x % 2 == 0:\n",
    "            x = int(x / 2)\n",
    "        else:\n",
    "            x = int(3 * x + 1)\n",
    "    print(1)\n",
    "\n",
    "collatz(1)\n",
    "collatz(10)"
   ]
  },
  {
   "cell_type": "code",
   "execution_count": null,
   "id": "df5fdeee-9d98-4c5d-8f22-b3744ef1fa3c",
   "metadata": {},
   "outputs": [],
   "source": [
    "Question 5\n",
    "\n",
    "Write a recursive method binary() that takes a non-negativeinteger n and prints the binary representation of integer n.\n",
    "\n",
    "binary(0) 0 binary(1) 1 binary(3) 11 binary(9) 1001"
   ]
  },
  {
   "cell_type": "code",
   "execution_count": 8,
   "id": "726642cf-5794-4f39-957d-b28ec3fc280a",
   "metadata": {},
   "outputs": [
    {
     "name": "stdout",
     "output_type": "stream",
     "text": [
      "0\n",
      "1\n",
      "11\n",
      "1001\n"
     ]
    }
   ],
   "source": [
    "def binary(get_value, binary_representation=\"\"):\n",
    "    if get_value < 0:\n",
    "        print(\"Input must be a non-negative integer.\")\n",
    "        return\n",
    "    elif get_value == 0:\n",
    "        if binary_representation == \"\":\n",
    "            print(0)\n",
    "        else:\n",
    "            print(binary_representation[::-1])\n",
    "    else:\n",
    "        remainder = get_value % 2\n",
    "        binary_representation += str(remainder)\n",
    "        get_value = int(get_value // 2)\n",
    "        binary(get_value, binary_representation)\n",
    "\n",
    "binary(0)\n",
    "binary(1)\n",
    "binary(3)\n",
    "binary(9)"
   ]
  },
  {
   "cell_type": "code",
   "execution_count": null,
   "id": "070b9743-1df8-432e-b09b-86e48b7912c6",
   "metadata": {},
   "outputs": [],
   "source": [
    "Question 6\n",
    "\n",
    "Implement a class named HeadingParser that can be used to parse an HTMLdocument, and retrieve and print all the headings in the document. You shouldimplement your class as a subclass of HTMLParser, defined in Standard Librarymodule html.parser. When fed a string containing HTML code, your class shouldprint the headings, one per line and in the order in which they appear in thedocument. Each heading should be indented as follows: an h1 heading should have indentation 0, and h2 heading should have indentation 1, etc. Test yourimplementation using w3c.html.\n",
    "\n",
    "infile = open('w3c.html') content = infile.read() infile.close() hp = HeadingParser() hp.feed(content) W3C Mission Principles"
   ]
  },
  {
   "cell_type": "code",
   "execution_count": 18,
   "id": "843a80a5-21e7-4839-bce6-e7edb24577cf",
   "metadata": {},
   "outputs": [
    {
     "name": "stdout",
     "output_type": "stream",
     "text": [
      "W3C Mission\n",
      " Principles\n"
     ]
    }
   ],
   "source": [
    "from html.parser import HTMLParser\n",
    "\n",
    "class HeadingParser(HTMLParser):\n",
    "    def __init__(self):\n",
    "        super().__init__()\n",
    "        self.headings = []\n",
    "        self.current_heading = None\n",
    "\n",
    "    def handle_starttag(self, tag, attrs):\n",
    "        if tag.startswith('h') and tag[1:].isdigit():\n",
    "            self.current_heading = {'level': int(tag[1]), 'text': ''}\n",
    "\n",
    "    def handle_data(self, data):\n",
    "        if self.current_heading:\n",
    "            self.current_heading['text'] += data\n",
    "\n",
    "    def handle_endtag(self, tag):\n",
    "        if self.current_heading:\n",
    "            self.headings.append(self.current_heading)\n",
    "            self.current_heading = None\n",
    "\n",
    "    def print_headings(self):\n",
    "        for heading in self.headings:\n",
    "            print(' ' * (heading['level'] - 1) + heading['text'])\n",
    "\n",
    "\n",
    "infile = open(\"C:\\\\Users\\\\kevin\\\\Downloads\\\\w3c.txt\", \"r\")\n",
    "content = infile.read()\n",
    "infile.close()\n",
    "hp = HeadingParser()\n",
    "hp.feed(content)\n",
    "hp.print_headings()"
   ]
  },
  {
   "cell_type": "code",
   "execution_count": null,
   "id": "492a7604-d005-45ef-bf5f-f0a1b7f8ca93",
   "metadata": {},
   "outputs": [],
   "source": [
    "Question 7\n",
    "\n",
    "Implement recursive function webdir() that takes as input: a URL (as a string) andnon-negative integers depth and indent. Your function should visit every webpage reachable from the starting URL web page in depth clicks or less, and printeach web page's URL. As shown below, indentation, specified by indent, shouldbe used to indicate the depth of a URL. webdir('http://reed.cs.depaul.edu/lperkovic/csc242/test1.html', 2, 0)\n",
    "\n",
    "http://reed.cs.depaul.edu/lperkovic/csc242/test1.htmlhttp://reed.cs.depaul.edu/lperkovic/csc242/test2.html http://reed.cs.depaul.edu/lperkovic/csc242/test4.htmlhttp://reed.cs.depaul.edu/lperkovic/csc242/test3.html http://reed.cs.depaul.edu/lperkovic/csc242/test4.html"
   ]
  },
  {
   "cell_type": "code",
   "execution_count": 19,
   "id": "5f43a349-2e60-44f5-be34-9ae97885680d",
   "metadata": {},
   "outputs": [
    {
     "name": "stdout",
     "output_type": "stream",
     "text": [
      "Error: 404 Client Error:  for url: http://reed.cs.depaul.edu/lperkovic/csc242/test1.html\n"
     ]
    }
   ],
   "source": [
    "import requests\n",
    "\n",
    "def webdir(url, depth, indent):\n",
    "    if depth < 0:\n",
    "        return\n",
    "\n",
    "    try:\n",
    "        response = requests.get(url)\n",
    "        response.raise_for_status()\n",
    "\n",
    "        print(' ' * indent + url)\n",
    "\n",
    "        if depth > 0:\n",
    "            links = find_links(response.text)\n",
    "            for link in links:\n",
    "                webdir(link, depth - 1, indent + 4)\n",
    "\n",
    "    except requests.exceptions.RequestException as e:\n",
    "        print(' ' * indent + f\"Error: {e}\")\n",
    "\n",
    "def find_links(html_content):\n",
    "    links = []\n",
    "    start = 0\n",
    "    while True:\n",
    "        start = html_content.find('href=\"', start)\n",
    "        if start == -1:\n",
    "            break\n",
    "        start += 6\n",
    "        end = html_content.find('\"', start)\n",
    "        if end == -1:\n",
    "            break\n",
    "        links.append(html_content[start:end])\n",
    "        start = end\n",
    "    return links\n",
    "\n",
    "webdir('http://reed.cs.depaul.edu/lperkovic/csc242/test1.html', 2, 0)"
   ]
  },
  {
   "cell_type": "code",
   "execution_count": null,
   "id": "9402b9d4-4fed-4171-9a01-3ffbb7c15744",
   "metadata": {},
   "outputs": [],
   "source": [
    "Question 8\n",
    "\n",
    "Write SQL queries on the below database table that return:\n",
    "\n",
    "a. All the temperature data."
   ]
  },
  {
   "cell_type": "code",
   "execution_count": null,
   "id": "92138294-fc52-4267-b8c8-6dc235611aa4",
   "metadata": {},
   "outputs": [],
   "source": [
    "SELECT temperature FROM weather_data;"
   ]
  },
  {
   "cell_type": "code",
   "execution_count": null,
   "id": "e60d82b6-f019-4bc5-9b0d-476f18ba1d78",
   "metadata": {},
   "outputs": [],
   "source": [
    "b. All the cities, but without repetition."
   ]
  },
  {
   "cell_type": "code",
   "execution_count": null,
   "id": "d8b38303-320b-426d-8a14-f1822d2a0e38",
   "metadata": {},
   "outputs": [],
   "source": [
    "SELECT DISTINCT city FROM weather_data;"
   ]
  },
  {
   "cell_type": "code",
   "execution_count": null,
   "id": "5a24b3a3-ffd9-4e54-9e6f-d46695a5a3af",
   "metadata": {},
   "outputs": [],
   "source": [
    "c. All the records for India."
   ]
  },
  {
   "cell_type": "code",
   "execution_count": null,
   "id": "50ffc536-e38a-49ac-a7f7-6b8602787074",
   "metadata": {},
   "outputs": [],
   "source": [
    "SELECT * FROM weather_data WHERE country = 'India';"
   ]
  },
  {
   "cell_type": "code",
   "execution_count": null,
   "id": "cb418278-8498-4e05-92ce-2d7b3c5e6266",
   "metadata": {},
   "outputs": [],
   "source": [
    "d. All the Fall records."
   ]
  },
  {
   "cell_type": "code",
   "execution_count": null,
   "id": "237fdfc5-8d3b-463b-bb9d-d530a4679ede",
   "metadata": {},
   "outputs": [],
   "source": [
    "SELECT * FROM weather_data WHERE season = 'Fall';"
   ]
  },
  {
   "cell_type": "code",
   "execution_count": null,
   "id": "95a7397c-7392-45c3-bd86-cc5510989d47",
   "metadata": {},
   "outputs": [],
   "source": [
    "e. The city, country, and season for which the average rainfall is between 200 and 400 millimeters."
   ]
  },
  {
   "cell_type": "code",
   "execution_count": null,
   "id": "e0a684ef-e0d8-48cf-b003-f2ada4a78616",
   "metadata": {},
   "outputs": [],
   "source": [
    "SELECT city, country, season\n",
    "FROM weather_data\n",
    "GROUP BY city, country, season\n",
    "HAVING AVG(rainfall) BETWEEN 200 AND 400;"
   ]
  },
  {
   "cell_type": "code",
   "execution_count": null,
   "id": "9719d521-1982-4991-bb33-5e4ba8e2a2c2",
   "metadata": {},
   "outputs": [],
   "source": [
    "f. The city and country for which the average Fall temperature is above 20 degrees, in increasing temperature order."
   ]
  },
  {
   "cell_type": "code",
   "execution_count": null,
   "id": "79db9a57-29e1-41d0-8dc3-5add083f53e3",
   "metadata": {},
   "outputs": [],
   "source": [
    "SELECT city, country\n",
    "FROM weather_data\n",
    "WHERE season = 'Fall'\n",
    "GROUP BY city, country\n",
    "HAVING AVG(temperature) > 20\n",
    "ORDER BY AVG(temperature) ASC;"
   ]
  },
  {
   "cell_type": "code",
   "execution_count": null,
   "id": "c3aab357-c843-4961-8e68-4e94d10c67d0",
   "metadata": {},
   "outputs": [],
   "source": [
    "g. The total annual rainfall for Cairo."
   ]
  },
  {
   "cell_type": "code",
   "execution_count": null,
   "id": "644d6cf0-3388-4690-a5b0-1639aae820ab",
   "metadata": {},
   "outputs": [],
   "source": [
    "SELECT SUM(rainfall) AS total_annual_rainfall\n",
    "FROM weather_data\n",
    "WHERE city = 'Cairo';"
   ]
  },
  {
   "cell_type": "code",
   "execution_count": null,
   "id": "eb4bf2f0-e585-48fa-8853-8f493851a366",
   "metadata": {},
   "outputs": [],
   "source": [
    "h. The total rainfall for each season."
   ]
  },
  {
   "cell_type": "code",
   "execution_count": null,
   "id": "c7f207b6-ea6d-4e2e-999b-cc2c5f804d48",
   "metadata": {},
   "outputs": [],
   "source": [
    "SELECT season, SUM(rainfall) AS total_rainfall\n",
    "FROM weather_data\n",
    "GROUP BY season;"
   ]
  },
  {
   "cell_type": "code",
   "execution_count": null,
   "id": "388dd8f4-cb28-4974-9118-e13deb443093",
   "metadata": {},
   "outputs": [],
   "source": [
    "Question 9.\n",
    "\n",
    "Suppose list words is defined as follows: words = ['The', 'quick', 'brown', 'fox', 'jumps', 'over','the', 'lazy', 'dog']\n",
    "\n",
    "Write list comprehension expressions that use list words and generate the following lists:\n",
    "\n",
    "a. ['THE', 'QUICK', 'BROWN', 'FOX', 'JUMPS', 'OVER', 'THE','LAZY', 'DOG'] b. ['the', 'quick', 'brown', 'fox', 'jumps', 'over', 'the','lazy', 'dog'] c. [3, 5, 5, 3, 5, 4, 3, 4, 3] (the list of lengths of words in listwords). d. [['THE', 'the', 3], ['QUICK', 'quick', 5], ['BROWN','brown', 5], ['FOX', 'fox', 3], ['JUMPS', 'jumps', 5],['OVER', 'over', 4], ['THE', 'the', 3], ['LAZY', 'lazy',4], ['DOG', 'dog', 3]] (the list containing a list for every word of listwords, where each list contains the word in uppercase and lowercase and thelength of the word.) e. ['The', 'quick', 'brown', 'fox', 'jumps', 'over', 'the','lazy', 'dog'] the list of words in list words containing 4 or morecharacters."
   ]
  },
  {
   "cell_type": "code",
   "execution_count": 22,
   "id": "1958d55f-03ae-46ea-9eb5-fb14613ca72c",
   "metadata": {},
   "outputs": [
    {
     "name": "stdout",
     "output_type": "stream",
     "text": [
      "a) ['THE', 'QUICK', 'BROWN', 'FOX', 'JUMPS', 'OVER', 'THE', 'LAZY', 'DOG']\n",
      "b) ['the', 'quick', 'brown', 'fox', 'jumps', 'over', 'the', 'lazy', 'dog']\n",
      "c) [3, 5, 5, 3, 5, 4, 3, 4, 3]\n",
      "d) [['THE', 'the', 3], ['QUICK', 'quick', 5], ['BROWN', 'brown', 5], ['FOX', 'fox', 3], ['JUMPS', 'jumps', 5], ['OVER', 'over', 4], ['THE', 'the', 3], ['LAZY', 'lazy', 4], ['DOG', 'dog', 3]]\n",
      "e) ['quick', 'brown', 'jumps', 'over', 'lazy']\n"
     ]
    }
   ],
   "source": [
    "words = ['The', 'quick', 'brown', 'fox', 'jumps', 'over', 'the', 'lazy', 'dog']\n",
    "UPPER = [word.upper() for word in words]\n",
    "LOWER = [word.lower() for word in words]\n",
    "LENGTH = [len(word) for word in words]\n",
    "INFO = [[word.upper(), word.lower(), len(word)] for word in words]\n",
    "FOURORMORE = [word for word in words if len(word) >= 4]\n",
    "print(\"a)\", UPPER)\n",
    "print(\"b)\", LOWER)\n",
    "print(\"c)\", LENGTH)\n",
    "print(\"d)\", INFO)\n",
    "print(\"e)\", FOURORMORE)"
   ]
  },
  {
   "cell_type": "code",
   "execution_count": null,
   "id": "f39d7403-a386-4563-9118-83d5428b17b4",
   "metadata": {},
   "outputs": [],
   "source": []
  }
 ],
 "metadata": {
  "kernelspec": {
   "display_name": "Python 3 (ipykernel)",
   "language": "python",
   "name": "python3"
  },
  "language_info": {
   "codemirror_mode": {
    "name": "ipython",
    "version": 3
   },
   "file_extension": ".py",
   "mimetype": "text/x-python",
   "name": "python",
   "nbconvert_exporter": "python",
   "pygments_lexer": "ipython3",
   "version": "3.11.5"
  }
 },
 "nbformat": 4,
 "nbformat_minor": 5
}
